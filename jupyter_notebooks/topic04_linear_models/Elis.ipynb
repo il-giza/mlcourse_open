{
 "cells": [
  {
   "cell_type": "markdown",
   "metadata": {
    "collapsed": true
   },
   "source": [
    "## Курс Open Data Science"
   ]
  },
  {
   "cell_type": "markdown",
   "metadata": {},
   "source": [
    "### Соревнование \"Catch Me If You Can: Intruder Detection through Webpage Session Tracking\""
   ]
  },
  {
   "cell_type": "markdown",
   "metadata": {},
   "source": [
    "#### Практически весь код (90% и больше) взят из 1 части домашнего задания 4. [solution]_hw4_part1_websites_logistic_regression"
   ]
  },
  {
   "cell_type": "markdown",
   "metadata": {},
   "source": [
    "#### Вольный слушатель IlgizA"
   ]
  },
  {
   "cell_type": "code",
   "execution_count": 2,
   "metadata": {
    "collapsed": true
   },
   "outputs": [],
   "source": [
    "# загрузим библиотеки и установим опции\n",
    "\n",
    "from __future__ import division, print_function\n",
    "# отключим всякие предупреждения Anaconda\n",
    "import warnings\n",
    "warnings.filterwarnings('ignore')\n",
    "%matplotlib inline\n",
    "from matplotlib import pyplot as plt\n",
    "import seaborn as sns\n",
    "\n",
    "import numpy as np\n",
    "import pandas as pd\n",
    "\n",
    "from scipy.sparse import csr_matrix\n",
    "from scipy.sparse import hstack\n",
    "\n",
    "from sklearn.linear_model import LogisticRegression\n",
    "from sklearn.model_selection import validation_curve"
   ]
  },
  {
   "cell_type": "code",
   "execution_count": 3,
   "metadata": {
    "collapsed": true
   },
   "outputs": [],
   "source": [
    "# загрузим обучающую и тестовую выборки\n",
    "train_df = pd.read_csv('./train_sessions.csv', index_col='session_id')\n",
    "test_df  = pd.read_csv('./test_sessions.csv',  index_col='session_id')"
   ]
  },
  {
   "cell_type": "code",
   "execution_count": 4,
   "metadata": {
    "collapsed": true
   },
   "outputs": [],
   "source": [
    "# приведем колонки time1, ..., time10 к временному формату\n",
    "times = [i for i in train_df.columns if i.startswith('time')]\n",
    "train_df[times] = train_df[times].apply(pd.to_datetime)\n",
    "test_df[times] = test_df[times].apply(pd.to_datetime)"
   ]
  },
  {
   "cell_type": "code",
   "execution_count": 5,
   "metadata": {
    "collapsed": true
   },
   "outputs": [],
   "source": [
    "# приведем колонки site1, ..., site10 к целочисленному формату и заменим пропуски нулями\n",
    "sites = [i for i in train_df.columns if i.startswith('site')]\n",
    "train_df[sites] = train_df[sites].fillna(0).astype('int')\n",
    "test_df[sites] = test_df[sites].fillna(0).astype('int')"
   ]
  },
  {
   "cell_type": "code",
   "execution_count": 6,
   "metadata": {
    "collapsed": true
   },
   "outputs": [],
   "source": [
    "# отсортируем данные по времени\n",
    "train_df = train_df.sort_values(by='time1')"
   ]
  },
  {
   "cell_type": "code",
   "execution_count": 7,
   "metadata": {
    "collapsed": false
   },
   "outputs": [
    {
     "data": {
      "text/plain": [
       "(253561, 21)"
      ]
     },
     "execution_count": 7,
     "metadata": {},
     "output_type": "execute_result"
    }
   ],
   "source": [
    "train_df.shape"
   ]
  },
  {
   "cell_type": "code",
   "execution_count": 8,
   "metadata": {
    "collapsed": false
   },
   "outputs": [
    {
     "data": {
      "text/plain": [
       "2013021216     56\n",
       "2013021217      5\n",
       "2013041209     38\n",
       "2013091215      1\n",
       "2013091216    276\n",
       "2013091217     87\n",
       "2013091218     13\n",
       "2013111512     22\n",
       "2013111513     40\n",
       "2013111514      3\n",
       "2013111816     19\n",
       "2013111817     18\n",
       "2013111915      1\n",
       "2013111916     13\n",
       "2013111917     59\n",
       "2013111918     28\n",
       "2013112212     41\n",
       "2013112213     59\n",
       "2013112911      1\n",
       "2013112912    113\n",
       "Name: time1, dtype: int64"
      ]
     },
     "execution_count": 8,
     "metadata": {},
     "output_type": "execute_result"
    }
   ],
   "source": [
    "train_df[train_df.target==1].time1.apply(lambda x: ((x.year*100 + x.month)*100 + x.day)*100 + x.hour).value_counts().sort_index().head(20)"
   ]
  },
  {
   "cell_type": "markdown",
   "metadata": {},
   "source": [
    "Итог: Удалил данные трейна до ноября 2013. Посчитал их лишними (возможно зря). \n",
    "Причины: \n",
    "В эти дни Элис была всего три раза 2013-02-12, 2013-04-12, 2013-09-12 (и только 12 числа!)\n",
    "2013-04-12 - Единственный день, когда Элис вышла в сеть в 9 утра. В остальные дни Элис выходила только после 11.\n",
    "Возможно это была не Элис?"
   ]
  },
  {
   "cell_type": "code",
   "execution_count": 27,
   "metadata": {
    "collapsed": true
   },
   "outputs": [],
   "source": [
    "# Удалил данные трейна до ноября 2013.\n",
    "train_df.drop(train_df[train_df.time1<'2013-11-01 00:00:00'].index, inplace=True)"
   ]
  },
  {
   "cell_type": "code",
   "execution_count": 10,
   "metadata": {
    "collapsed": true
   },
   "outputs": [],
   "source": [
    "# создадим отдельный датафрейм, где будем работать со временем\n",
    "time_df = pd.DataFrame(index=train_df.index)\n",
    "time_df['target'] = train_df['target']\n",
    "\n",
    "# найдем время начала и окончания сессии\n",
    "time_df['min'] = train_df[times].min(axis=1)\n",
    "time_df['max'] = train_df[times].max(axis=1)"
   ]
  },
  {
   "cell_type": "code",
   "execution_count": 11,
   "metadata": {
    "collapsed": true
   },
   "outputs": [],
   "source": [
    "# введем дополнительные аналитики\n",
    "time_df['Y']= time_df['min'].apply(lambda x: x.year)\n",
    "time_df['M']= time_df['min'].apply(lambda x: x.month)\n",
    "time_df['D']= time_df['min'].apply(lambda x: x.day)\n",
    "time_df['H']= time_df['min'].apply(lambda x: x.hour)\n",
    "time_df['W']= time_df['min'].apply(lambda x: x.date().weekday()) # день недели: 0-понедельник, ... , 6-воскресение"
   ]
  },
  {
   "cell_type": "code",
   "execution_count": 12,
   "metadata": {
    "collapsed": false
   },
   "outputs": [
    {
     "data": {
      "image/png": "[encoded data removed]",
      "text/plain": [
       "<matplotlib.figure.Figure at 0x7f6f1e2324a8>"
      ]
     },
     "metadata": {},
     "output_type": "display_data"
    }
   ],
   "source": [
    "# Хитмап - анализируем распределение по часам\n",
    "plt.figure(figsize=(10,10))\n",
    "sns.heatmap(time_df[time_df.target==1].pivot_table(values='target', index=['W','Y','M','D'], columns=['H'], aggfunc=np.sum ));"
   ]
  },
  {
   "cell_type": "markdown",
   "metadata": {},
   "source": [
    "Из этой диаграммы видно, что Элис выходит в сеть либо только до ланча, либо только после.\n",
    "Ни разу не была в сети весь день: по понедельникам Элис выходит только во второй половине дня, по пятницам только в первой половине дня. Причем по пятницам только в 2013 году"
   ]
  },
  {
   "cell_type": "code",
   "execution_count": 13,
   "metadata": {
    "collapsed": false
   },
   "outputs": [
    {
     "data": {
      "image/png": "[encoded data removed]",
      "text/plain": [
       "<matplotlib.figure.Figure at 0x7f6f264856a0>"
      ]
     },
     "metadata": {},
     "output_type": "display_data"
    }
   ],
   "source": [
    "# Хитмап - анализируем распределение по дням недели\n",
    "\n",
    "plt.figure(figsize=(10,10))\n",
    "sns.heatmap(time_df[time_df.target==1].pivot_table(values='target', index=['D','Y','M'], columns='W', aggfunc=np.sum ));"
   ]
  },
  {
   "cell_type": "markdown",
   "metadata": {},
   "source": [
    "Из этой диаграммы можно сделать такие выводы - В первых днях месяца Элис за все время выходила только по одному дню в воскресение, субботу, среду. Во второй половине месяца Элис выходит только по понедельникам, вторникам, четвергам и пятницам."
   ]
  },
  {
   "cell_type": "code",
   "execution_count": 29,
   "metadata": {
    "collapsed": false
   },
   "outputs": [
    {
     "data": {
      "text/html": [
       "<div>\n",
       "<style>\n",
       "    .dataframe thead tr:only-child th {\n",
       "        text-align: right;\n",
       "    }\n",
       "\n",
       "    .dataframe thead th {\n",
       "        text-align: left;\n",
       "    }\n",
       "\n",
       "    .dataframe tbody tr th {\n",
       "        vertical-align: top;\n",
       "    }\n",
       "</style>\n",
       "<table border=\"1\" class=\"dataframe\">\n",
       "  <thead>\n",
       "    <tr style=\"text-align: right;\">\n",
       "      <th></th>\n",
       "      <th></th>\n",
       "      <th></th>\n",
       "      <th>H</th>\n",
       "      <th>min</th>\n",
       "      <th>max</th>\n",
       "      <th>target</th>\n",
       "    </tr>\n",
       "    <tr>\n",
       "      <th>Y</th>\n",
       "      <th>M</th>\n",
       "      <th>D</th>\n",
       "      <th></th>\n",
       "      <th></th>\n",
       "      <th></th>\n",
       "      <th></th>\n",
       "    </tr>\n",
       "  </thead>\n",
       "  <tbody>\n",
       "    <tr>\n",
       "      <th>2014</th>\n",
       "      <th>3</th>\n",
       "      <th>2</th>\n",
       "      <td>11</td>\n",
       "      <td>2014-03-02 11:55:52</td>\n",
       "      <td>2014-03-02 11:55:52</td>\n",
       "      <td>1</td>\n",
       "    </tr>\n",
       "    <tr>\n",
       "      <th>2013</th>\n",
       "      <th>11</th>\n",
       "      <th>29</th>\n",
       "      <td>11</td>\n",
       "      <td>2013-11-29 11:59:01</td>\n",
       "      <td>2013-11-29 13:21:50</td>\n",
       "      <td>143</td>\n",
       "    </tr>\n",
       "    <tr>\n",
       "      <th>2014</th>\n",
       "      <th>3</th>\n",
       "      <th>25</th>\n",
       "      <td>11</td>\n",
       "      <td>2014-03-25 11:53:25</td>\n",
       "      <td>2014-03-25 13:21:10</td>\n",
       "      <td>97</td>\n",
       "    </tr>\n",
       "    <tr>\n",
       "      <th>2013</th>\n",
       "      <th>11</th>\n",
       "      <th>15</th>\n",
       "      <td>12</td>\n",
       "      <td>2013-11-15 12:18:58</td>\n",
       "      <td>2013-11-15 14:04:16</td>\n",
       "      <td>65</td>\n",
       "    </tr>\n",
       "    <tr>\n",
       "      <th>2014</th>\n",
       "      <th>2</th>\n",
       "      <th>18</th>\n",
       "      <td>12</td>\n",
       "      <td>2014-02-18 12:06:00</td>\n",
       "      <td>2014-02-18 12:13:48</td>\n",
       "      <td>13</td>\n",
       "    </tr>\n",
       "    <tr>\n",
       "      <th>2013</th>\n",
       "      <th>11</th>\n",
       "      <th>22</th>\n",
       "      <td>12</td>\n",
       "      <td>2013-11-22 12:13:22</td>\n",
       "      <td>2013-11-22 13:33:27</td>\n",
       "      <td>100</td>\n",
       "    </tr>\n",
       "    <tr>\n",
       "      <th>2014</th>\n",
       "      <th>2</th>\n",
       "      <th>13</th>\n",
       "      <td>12</td>\n",
       "      <td>2014-02-13 12:29:33</td>\n",
       "      <td>2014-02-13 13:51:47</td>\n",
       "      <td>79</td>\n",
       "    </tr>\n",
       "    <tr>\n",
       "      <th>2013</th>\n",
       "      <th>12</th>\n",
       "      <th>17</th>\n",
       "      <td>12</td>\n",
       "      <td>2013-12-17 12:27:53</td>\n",
       "      <td>2013-12-17 13:43:14</td>\n",
       "      <td>28</td>\n",
       "    </tr>\n",
       "    <tr>\n",
       "      <th rowspan=\"5\" valign=\"top\">2014</th>\n",
       "      <th>1</th>\n",
       "      <th>16</th>\n",
       "      <td>12</td>\n",
       "      <td>2014-01-16 12:35:03</td>\n",
       "      <td>2014-01-16 13:04:20</td>\n",
       "      <td>6</td>\n",
       "    </tr>\n",
       "    <tr>\n",
       "      <th rowspan=\"2\" valign=\"top\">3</th>\n",
       "      <th>18</th>\n",
       "      <td>13</td>\n",
       "      <td>2014-03-18 13:48:20</td>\n",
       "      <td>2014-03-18 13:51:08</td>\n",
       "      <td>6</td>\n",
       "    </tr>\n",
       "    <tr>\n",
       "      <th>20</th>\n",
       "      <td>13</td>\n",
       "      <td>2014-03-20 13:24:05</td>\n",
       "      <td>2014-03-20 13:28:09</td>\n",
       "      <td>4</td>\n",
       "    </tr>\n",
       "    <tr>\n",
       "      <th>1</th>\n",
       "      <th>28</th>\n",
       "      <td>14</td>\n",
       "      <td>2014-01-28 14:14:19</td>\n",
       "      <td>2014-01-28 18:07:56</td>\n",
       "      <td>20</td>\n",
       "    </tr>\n",
       "    <tr>\n",
       "      <th>4</th>\n",
       "      <th>14</th>\n",
       "      <td>15</td>\n",
       "      <td>2014-04-14 15:57:42</td>\n",
       "      <td>2014-04-14 18:08:34</td>\n",
       "      <td>170</td>\n",
       "    </tr>\n",
       "    <tr>\n",
       "      <th>2013</th>\n",
       "      <th>11</th>\n",
       "      <th>19</th>\n",
       "      <td>15</td>\n",
       "      <td>2013-11-19 15:56:38</td>\n",
       "      <td>2013-11-19 18:14:16</td>\n",
       "      <td>101</td>\n",
       "    </tr>\n",
       "    <tr>\n",
       "      <th rowspan=\"9\" valign=\"top\">2014</th>\n",
       "      <th rowspan=\"3\" valign=\"top\">2</th>\n",
       "      <th>20</th>\n",
       "      <td>15</td>\n",
       "      <td>2014-02-20 15:00:28</td>\n",
       "      <td>2014-02-20 15:02:51</td>\n",
       "      <td>1</td>\n",
       "    </tr>\n",
       "    <tr>\n",
       "      <th>25</th>\n",
       "      <td>15</td>\n",
       "      <td>2014-02-25 15:57:21</td>\n",
       "      <td>2014-02-25 18:14:04</td>\n",
       "      <td>79</td>\n",
       "    </tr>\n",
       "    <tr>\n",
       "      <th>27</th>\n",
       "      <td>15</td>\n",
       "      <td>2014-02-27 15:08:53</td>\n",
       "      <td>2014-02-27 15:16:40</td>\n",
       "      <td>20</td>\n",
       "    </tr>\n",
       "    <tr>\n",
       "      <th>4</th>\n",
       "      <th>2</th>\n",
       "      <td>15</td>\n",
       "      <td>2014-04-02 15:56:20</td>\n",
       "      <td>2014-04-02 18:09:03</td>\n",
       "      <td>38</td>\n",
       "    </tr>\n",
       "    <tr>\n",
       "      <th rowspan=\"2\" valign=\"top\">1</th>\n",
       "      <th>14</th>\n",
       "      <td>15</td>\n",
       "      <td>2014-01-14 15:54:33</td>\n",
       "      <td>2014-01-14 16:09:18</td>\n",
       "      <td>9</td>\n",
       "    </tr>\n",
       "    <tr>\n",
       "      <th>20</th>\n",
       "      <td>15</td>\n",
       "      <td>2014-01-20 15:57:42</td>\n",
       "      <td>2014-01-20 18:05:29</td>\n",
       "      <td>53</td>\n",
       "    </tr>\n",
       "    <tr>\n",
       "      <th rowspan=\"2\" valign=\"top\">3</th>\n",
       "      <th>31</th>\n",
       "      <td>16</td>\n",
       "      <td>2014-03-31 16:39:16</td>\n",
       "      <td>2014-03-31 16:49:00</td>\n",
       "      <td>22</td>\n",
       "    </tr>\n",
       "    <tr>\n",
       "      <th>24</th>\n",
       "      <td>16</td>\n",
       "      <td>2014-03-24 16:06:00</td>\n",
       "      <td>2014-03-24 18:19:24</td>\n",
       "      <td>270</td>\n",
       "    </tr>\n",
       "    <tr>\n",
       "      <th>2</th>\n",
       "      <th>17</th>\n",
       "      <td>16</td>\n",
       "      <td>2014-02-17 16:02:48</td>\n",
       "      <td>2014-02-17 18:14:32</td>\n",
       "      <td>124</td>\n",
       "    </tr>\n",
       "    <tr>\n",
       "      <th rowspan=\"2\" valign=\"top\">2013</th>\n",
       "      <th>12</th>\n",
       "      <th>16</th>\n",
       "      <td>16</td>\n",
       "      <td>2013-12-16 16:02:32</td>\n",
       "      <td>2013-12-16 18:20:36</td>\n",
       "      <td>106</td>\n",
       "    </tr>\n",
       "    <tr>\n",
       "      <th>11</th>\n",
       "      <th>18</th>\n",
       "      <td>16</td>\n",
       "      <td>2013-11-18 16:13:50</td>\n",
       "      <td>2013-11-18 18:00:54</td>\n",
       "      <td>37</td>\n",
       "    </tr>\n",
       "    <tr>\n",
       "      <th rowspan=\"3\" valign=\"top\">2014</th>\n",
       "      <th>2</th>\n",
       "      <th>24</th>\n",
       "      <td>16</td>\n",
       "      <td>2014-02-24 16:22:06</td>\n",
       "      <td>2014-02-24 18:14:19</td>\n",
       "      <td>94</td>\n",
       "    </tr>\n",
       "    <tr>\n",
       "      <th>4</th>\n",
       "      <th>15</th>\n",
       "      <td>16</td>\n",
       "      <td>2014-04-15 16:02:12</td>\n",
       "      <td>2014-04-15 18:07:50</td>\n",
       "      <td>94</td>\n",
       "    </tr>\n",
       "    <tr>\n",
       "      <th>1</th>\n",
       "      <th>4</th>\n",
       "      <td>17</td>\n",
       "      <td>2014-01-04 17:29:19</td>\n",
       "      <td>2014-01-04 18:11:28</td>\n",
       "      <td>41</td>\n",
       "    </tr>\n",
       "  </tbody>\n",
       "</table>\n",
       "</div>"
      ],
      "text/plain": [
       "             H                 min                 max  target\n",
       "Y    M  D                                                     \n",
       "2014 3  2   11 2014-03-02 11:55:52 2014-03-02 11:55:52       1\n",
       "2013 11 29  11 2013-11-29 11:59:01 2013-11-29 13:21:50     143\n",
       "2014 3  25  11 2014-03-25 11:53:25 2014-03-25 13:21:10      97\n",
       "2013 11 15  12 2013-11-15 12:18:58 2013-11-15 14:04:16      65\n",
       "2014 2  18  12 2014-02-18 12:06:00 2014-02-18 12:13:48      13\n",
       "2013 11 22  12 2013-11-22 12:13:22 2013-11-22 13:33:27     100\n",
       "2014 2  13  12 2014-02-13 12:29:33 2014-02-13 13:51:47      79\n",
       "2013 12 17  12 2013-12-17 12:27:53 2013-12-17 13:43:14      28\n",
       "2014 1  16  12 2014-01-16 12:35:03 2014-01-16 13:04:20       6\n",
       "     3  18  13 2014-03-18 13:48:20 2014-03-18 13:51:08       6\n",
       "        20  13 2014-03-20 13:24:05 2014-03-20 13:28:09       4\n",
       "     1  28  14 2014-01-28 14:14:19 2014-01-28 18:07:56      20\n",
       "     4  14  15 2014-04-14 15:57:42 2014-04-14 18:08:34     170\n",
       "2013 11 19  15 2013-11-19 15:56:38 2013-11-19 18:14:16     101\n",
       "2014 2  20  15 2014-02-20 15:00:28 2014-02-20 15:02:51       1\n",
       "        25  15 2014-02-25 15:57:21 2014-02-25 18:14:04      79\n",
       "        27  15 2014-02-27 15:08:53 2014-02-27 15:16:40      20\n",
       "     4  2   15 2014-04-02 15:56:20 2014-04-02 18:09:03      38\n",
       "     1  14  15 2014-01-14 15:54:33 2014-01-14 16:09:18       9\n",
       "        20  15 2014-01-20 15:57:42 2014-01-20 18:05:29      53\n",
       "     3  31  16 2014-03-31 16:39:16 2014-03-31 16:49:00      22\n",
       "        24  16 2014-03-24 16:06:00 2014-03-24 18:19:24     270\n",
       "     2  17  16 2014-02-17 16:02:48 2014-02-17 18:14:32     124\n",
       "2013 12 16  16 2013-12-16 16:02:32 2013-12-16 18:20:36     106\n",
       "     11 18  16 2013-11-18 16:13:50 2013-11-18 18:00:54      37\n",
       "2014 2  24  16 2014-02-24 16:22:06 2014-02-24 18:14:19      94\n",
       "     4  15  16 2014-04-15 16:02:12 2014-04-15 18:07:50      94\n",
       "     1  4   17 2014-01-04 17:29:19 2014-01-04 18:11:28      41"
      ]
     },
     "execution_count": 29,
     "metadata": {},
     "output_type": "execute_result"
    }
   ],
   "source": [
    "# определяем \"режим работы\"\n",
    "time_df[time_df['target']==1].groupby(by=['Y','M','D']).agg({'max':max,'min':min,'H':min,'target':'count'})[['H','min','max','target']].sort_values(by='H')\n"
   ]
  },
  {
   "cell_type": "markdown",
   "metadata": {},
   "source": [
    " Данных по дням Элис мало. Все дни уместились в одну небольшую табличку.\n",
    " При этом складывается определенный распорядок дня \"работы\". Визуально примерно такой: \n",
    " либо с 11:50 до 14:10  (верхняя часть таблицы);\n",
    " либо с 15:50 до 18:15  (нижняя часть таблицы)"
   ]
  },
  {
   "cell_type": "code",
   "execution_count": 15,
   "metadata": {
    "collapsed": true
   },
   "outputs": [],
   "source": [
    "# наша целевая переменная\n",
    "y_train = train_df['target']\n",
    "\n",
    "# объединенная таблица исходных данных\n",
    "full_df = pd.concat([train_df.drop('target', axis=1), test_df])\n",
    "\n",
    "# индекс, по которому будем отделять обучающую выборку от тестовой\n",
    "idx_split = train_df.shape[0]"
   ]
  },
  {
   "cell_type": "code",
   "execution_count": 16,
   "metadata": {
    "collapsed": true
   },
   "outputs": [],
   "source": [
    "# табличка с индексами посещенных сайтов в сессии\n",
    "full_sites = full_df[sites]"
   ]
  },
  {
   "cell_type": "code",
   "execution_count": 17,
   "metadata": {
    "collapsed": false
   },
   "outputs": [],
   "source": [
    "# последовательность с индексами\n",
    "sites_flatten = full_sites.values.flatten()\n",
    "\n",
    "# искомая матрица\n",
    "full_sites_sparse = csr_matrix(([1] * sites_flatten.shape[0],\n",
    "                                sites_flatten,\n",
    "                                range(0, sites_flatten.shape[0]  + 10, 10)))[:, 1:]"
   ]
  },
  {
   "cell_type": "code",
   "execution_count": 18,
   "metadata": {
    "collapsed": false
   },
   "outputs": [
    {
     "name": "stdout",
     "output_type": "stream",
     "text": [
      "full_sites_sparse.shape (312728, 48371)\n"
     ]
    }
   ],
   "source": [
    "print( \"full_sites_sparse.shape\" , full_sites_sparse.shape)"
   ]
  },
  {
   "cell_type": "code",
   "execution_count": 19,
   "metadata": {
    "collapsed": true
   },
   "outputs": [],
   "source": [
    "# датафрейм для новых признаков\n",
    "full_new_feat = pd.DataFrame(index=full_df.index)\n",
    "\n",
    "full_new_feat['start_hour'] = full_df['time1'].apply(lambda ts: ts.hour) \n",
    "full_new_feat['dec_1w'] = full_df['time1'].apply(lambda ts: int(ts.day<=7)) # первые семь дней месяца  (на глазок)\n",
    "full_new_feat['dec_1'] = full_df['time1'].apply(lambda ts: int(ts.day> 10)) # вторая и третья декада   (тоже грубое приближение)\n",
    "full_new_feat['before'] = full_df['time1'].apply(lambda ts: int((ts.hour*60+ts.minute >=11*60+50) \n",
    "                                                              & (ts.hour*60+ts.minute <=14*60+10))) # первая половина дня\n",
    "full_new_feat['after'] = full_df['time1'].apply(lambda ts: int((ts.hour*60+ts.minute >=15*60) \n",
    "                                                              & (ts.hour*60+ts.minute <=18*60+15))) # вторая половина дня"
   ]
  },
  {
   "cell_type": "code",
   "execution_count": 20,
   "metadata": {
    "collapsed": true
   },
   "outputs": [],
   "source": [
    "# каждый день недели как признак\n",
    "for i in range(0,7):\n",
    "    week_d = 'wd_'+str(i)\n",
    "    full_new_feat[week_d] = full_df['time1'].apply(lambda ts: int(ts.date().weekday()==i))"
   ]
  },
  {
   "cell_type": "code",
   "execution_count": 21,
   "metadata": {
    "collapsed": true
   },
   "outputs": [],
   "source": [
    "# то же самое с часами с учетом того, что 7 часов это самое раннее время всех сессий\n",
    "full_new_feat['h_7'] = full_new_feat['start_hour'].apply(lambda hour: int(hour <= 7))\n",
    "for i in range(8,24):\n",
    "    h_i = 'h_'+str(i)\n",
    "    full_new_feat[h_i] = full_new_feat['start_hour'].apply(lambda hour: int(hour == i))"
   ]
  },
  {
   "cell_type": "code",
   "execution_count": 22,
   "metadata": {
    "collapsed": false
   },
   "outputs": [
    {
     "name": "stdout",
     "output_type": "stream",
     "text": [
      "['wd_0', 'wd_1', 'wd_2', 'wd_3', 'wd_4', 'wd_5', 'wd_6']\n",
      "['h_7', 'h_8', 'h_9', 'h_10', 'h_11', 'h_12', 'h_13', 'h_14', 'h_15', 'h_16', 'h_17', 'h_18', 'h_19', 'h_20', 'h_21', 'h_22', 'h_23']\n"
     ]
    }
   ],
   "source": [
    "# столбцы фичи для обучения\n",
    "wd = [i for i in full_new_feat.columns if i.startswith('wd_')]\n",
    "hs = [i for i in full_new_feat.columns if i.startswith('h_')]\n",
    "print(wd)\n",
    "print(hs)"
   ]
  },
  {
   "cell_type": "code",
   "execution_count": 23,
   "metadata": {
    "collapsed": false
   },
   "outputs": [],
   "source": [
    "def plot_with_err(x, data, **kwargs):\n",
    "    mu, std = data.mean(1), data.std(1)\n",
    "    lines = plt.plot(x, mu, '-', **kwargs)\n",
    "    plt.fill_between(x, mu - std, mu + std, edgecolor='none',\n",
    "                     facecolor=lines[0].get_color(), alpha=0.2)\n",
    "\n",
    "def plot_valid(x, data, **kwargs):\n",
    "    mu, std = data.mean(1), data.std(1)\n",
    "    lines = plt.plot(x, mu, '-', **kwargs)\n",
    "\n",
    "# функция для записи прогнозов в файл\n",
    "def write_to_submission_file(predicted_labels, out_file, target='target', index_label=\"session_id\"):\n",
    "    predicted_df = pd.DataFrame(predicted_labels, index = np.arange(1, predicted_labels.shape[0] + 1), columns=[target])\n",
    "    predicted_df.to_csv(out_file, index_label=index_label)    "
   ]
  },
  {
   "cell_type": "code",
   "execution_count": 30,
   "metadata": {
    "collapsed": false
   },
   "outputs": [
    {
     "name": "stdout",
     "output_type": "stream",
     "text": [
      "[ 0.06309573  0.09027252  0.12915497  0.18478498  0.26437612  0.37824899\n",
      "  0.54116953  0.77426368  1.10775685  1.58489319]\n",
      "CPU times: user 3min 16s, sys: 171 ms, total: 3min 16s\n",
      "Wall time: 3min 16s\n"
     ]
    },
    {
     "data": {
      "image/png": "[encoded data removed]",
      "text/plain": [
       "<matplotlib.figure.Figure at 0x7f6f2963c940>"
      ]
     },
     "metadata": {},
     "output_type": "display_data"
    }
   ],
   "source": [
    "%%time\n",
    "# проводим валидацию модели и определяем лучший параметр С \n",
    "tmp_new = full_new_feat[wd + hs + ['before','after','dec_1','dec_1w']].as_matrix()\n",
    "X_train = csr_matrix(hstack([full_sites_sparse[:idx_split,:], tmp_new[:idx_split,:]]))\n",
    "\n",
    "c_values = np.logspace(-1.2, 0.2, 10)\n",
    "print(c_values) \n",
    "logit_searcher = LogisticRegression(n_jobs=-1, random_state=17)\n",
    "\n",
    "val_train, val_test = validation_curve(logit_searcher, X_train, y_train,\n",
    "                                       param_name='C', param_range=c_values, cv=5,\n",
    "                                       scoring='roc_auc')\n",
    "\n",
    "\n",
    "plot_with_err(c_values, val_train, label='training scores')\n",
    "plot_with_err(c_values, val_test, label='validation scores')\n",
    "plt.xlabel('C'); plt.ylabel('ROC AUC')\n",
    "plt.legend();"
   ]
  },
  {
   "cell_type": "code",
   "execution_count": 31,
   "metadata": {
    "collapsed": false
   },
   "outputs": [
    {
     "name": "stdout",
     "output_type": "stream",
     "text": [
      "C= 0.8\n"
     ]
    },
    {
     "data": {
      "image/png": "[encoded data removed]",
      "text/plain": [
       "<matplotlib.figure.Figure at 0x7f6f2963c898>"
      ]
     },
     "metadata": {},
     "output_type": "display_data"
    }
   ],
   "source": [
    "# эта же кривая валидации отдельно, чтобы определить параметр С\n",
    "\n",
    "plot_valid(c_values, val_test, label='validation scores')  \n",
    "plt.xlabel('C'); plt.ylabel('ROC AUC')\n",
    "plt.legend();\n",
    "\n",
    "print('C=', 0.8) "
   ]
  },
  {
   "cell_type": "markdown",
   "metadata": {},
   "source": [
    "Параметр регуляризации определил на глазок. Пусть будет 0.8"
   ]
  },
  {
   "cell_type": "code",
   "execution_count": 26,
   "metadata": {
    "collapsed": false
   },
   "outputs": [],
   "source": [
    "# Итоговое обучение\n",
    "tmp_new = full_new_feat[wd + hs + ['before','after','dec_1','dec_1w']].as_matrix()             \n",
    "\n",
    "X_train = csr_matrix(hstack([full_sites_sparse[:idx_split,:], tmp_new[:idx_split,:]]))\n",
    "X_test = csr_matrix(hstack([full_sites_sparse[idx_split:,:],  tmp_new[idx_split:,:]]))\n",
    "\n",
    "# C - на глаз из картинки\n",
    "C=0.8\n",
    "\n",
    "# обучим модель на всей выборке с оптимальным коэффициентом регуляризации\n",
    "lr = LogisticRegression(C=C, random_state=17).fit(X_train, y_train)  \n",
    "\n",
    "# сделаем прогноз для тестовой выборки\n",
    "y_test = lr.predict_proba(X_test)[:, 1]\n",
    "\n",
    "# запишем его в файл, готовый для сабмита\n",
    "write_to_submission_file(y_test, './baseline.csv')\n",
    "\n"
   ]
  },
  {
   "cell_type": "markdown",
   "metadata": {
    "collapsed": true
   },
   "source": [
    "Этот сабмит дал на паблике результат - 0.95956, а в привате - 0.96070. Вот такое решение \"на глазок\". Большой выигрыш дало использование семи фич \"день недели\" вместо одной фичи \"неделя\". Увидев на этом прирос, так же побил часы на отдельные фичи."
   ]
  }
 ],
 "metadata": {
  "anaconda-cloud": {},
  "kernelspec": {
   "display_name": "Python [Root]",
   "language": "python",
   "name": "Python [Root]"
  },
  "language_info": {
   "codemirror_mode": {
    "name": "ipython",
    "version": 3
   },
   "file_extension": ".py",
   "mimetype": "text/x-python",
   "name": "python",
   "nbconvert_exporter": "python",
   "pygments_lexer": "ipython3",
   "version": "3.5.2"
  }
 },
 "nbformat": 4,
 "nbformat_minor": 2
}
